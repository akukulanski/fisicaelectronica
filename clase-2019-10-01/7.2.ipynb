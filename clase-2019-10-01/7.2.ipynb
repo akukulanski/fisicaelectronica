{
 "cells": [
  {
   "cell_type": "code",
   "execution_count": 1,
   "metadata": {
    "collapsed": false
   },
   "outputs": [],
   "source": [
    "from math import pi, sin, cos, asin, acos\n",
    "from constants import *\n",
    "import sys\n",
    "assert sys.version_info >= (3, 6), 'Este script puede correrse con Python >= 3.6'"
   ]
  },
  {
   "cell_type": "code",
   "execution_count": 2,
   "metadata": {
    "collapsed": true
   },
   "outputs": [],
   "source": [
    "guia = 7\n",
    "ej = 2\n",
    "enunciado = \"\"\"Se aceleran electrones sobre un blanco de Molibdeno con un potencial determinado. Para este\n",
    "material, la longitud de onda de la lı́nea K α es de 0,71 Å y la K β es de 0,63 Å.\n",
    "a) Determinar el potencial aplicado tal que en el espectro (intensidad vs. longitud de onda)\n",
    "aparezca la lı́nea K α y no la K β\n",
    "b) Graficar el espectro\n",
    "Respuesta : a) ∼18 kV\n",
    "\"\"\""
   ]
  },
  {
   "cell_type": "code",
   "execution_count": 3,
   "metadata": {
    "collapsed": true
   },
   "outputs": [],
   "source": [
    "# Datos\n",
    "lo_1 = 0.71e-10 # [m]\n",
    "lo_2 = 0.63e-10 # [m]"
   ]
  },
  {
   "cell_type": "code",
   "execution_count": 4,
   "metadata": {
    "collapsed": true
   },
   "outputs": [],
   "source": [
    "# Cálculos\n",
    "Vmin = hc/lo_1\n",
    "Vmax = hc/lo_2"
   ]
  },
  {
   "cell_type": "code",
   "execution_count": 5,
   "metadata": {
    "collapsed": false
   },
   "outputs": [
    {
     "name": "stdout",
     "output_type": "stream",
     "text": [
      "=== Guía 7 - Ejercicio 2 ===\n",
      "\n",
      "> Enunciado:\n",
      "\n",
      "    Se aceleran electrones sobre un blanco de Molibdeno con un potencial determinado. Para este\n",
      "material, la longitud de onda de la lı́nea K α es de 0,71 Å y la K β es de 0,63 Å.\n",
      "a) Determinar el potencial aplicado tal que en el espectro (intensidad vs. longitud de onda)\n",
      "aparezca la lı́nea K α y no la K β\n",
      "b) Graficar el espectro\n",
      "Respuesta : a) ∼18 kV\n",
      "\n",
      "\n",
      "> Resultado:\n",
      "\n",
      "    17.46 KV < V < 19.68 KV\n"
     ]
    }
   ],
   "source": [
    "# Salida\n",
    "print(f'=== Guía {guia} - Ejercicio {ej} ===\\n\\n> Enunciado:\\n\\n    {enunciado}\\n')\n",
    "print(f'> Resultado:\\n\\n    {Vmin/1e3:.2f} KV < V < {Vmax/1e3:.2f} KV')"
   ]
  }
 ],
 "metadata": {
  "kernelspec": {
   "display_name": "Python 3.7",
   "language": "python",
   "name": "python3.7"
  },
  "language_info": {
   "codemirror_mode": {
    "name": "ipython",
    "version": 3
   },
   "file_extension": ".py",
   "mimetype": "text/x-python",
   "name": "python",
   "nbconvert_exporter": "python",
   "pygments_lexer": "ipython3",
   "version": "3.7.4"
  }
 },
 "nbformat": 4,
 "nbformat_minor": 2
}
