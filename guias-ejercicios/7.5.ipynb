{
 "cells": [
  {
   "cell_type": "code",
   "execution_count": 1,
   "metadata": {
    "collapsed": true
   },
   "outputs": [],
   "source": [
    "from math import pi, sin, cos, asin, acos\n",
    "from constants import *\n",
    "import sys\n",
    "assert sys.version_info >= (3, 6), 'Este script puede correrse con Python >= 3.6'"
   ]
  },
  {
   "cell_type": "code",
   "execution_count": 2,
   "metadata": {
    "collapsed": true
   },
   "outputs": [],
   "source": [
    "guia = 7\n",
    "ej = 5\n",
    "enunciado = \"\"\"Considere un fotón proveniente de la lı́nea K α del Molibdeno que incide sobre un electrón en\n",
    "reposo, el cual sale despedido en la misma dirección en la que venı́a el fotón.\n",
    "a) Calcule la dirección y longitud de onda del fotón luego de la interacción\n",
    "b) Calcule el impulso adquirido por el electrón\n",
    "Respuesta : a)0,0758 nm; b) 1.8×10 −23 kg.m/s\n",
    "\"\"\""
   ]
  },
  {
   "cell_type": "code",
   "execution_count": 3,
   "metadata": {
    "collapsed": false
   },
   "outputs": [],
   "source": [
    "# Datos\n",
    "lo1 = 71e-12 # m (Kalfa molibdeno fue dada en otro ejercicio)\n",
    "ang = -pi"
   ]
  },
  {
   "cell_type": "code",
   "execution_count": 4,
   "metadata": {
    "collapsed": true
   },
   "outputs": [],
   "source": [
    "# Cálculos\n",
    "delta_lo = lo_compton * (1-cos(ang))\n",
    "lo2 = lo1 + delta_lo\n",
    "Pe = hc*(1/lo1 + 1/lo2) # eV/c"
   ]
  },
  {
   "cell_type": "code",
   "execution_count": 13,
   "metadata": {
    "collapsed": false
   },
   "outputs": [
    {
     "name": "stdout",
     "output_type": "stream",
     "text": [
      "=== Guía 7 - Ejercicio 5 ===\n",
      "\n",
      "> Enunciado:\n",
      "\n",
      "    Considere un fotón proveniente de la lı́nea K α del Molibdeno que incide sobre un electrón en\n",
      "reposo, el cual sale despedido en la misma dirección en la que venı́a el fotón.\n",
      "a) Calcule la dirección y longitud de onda del fotón luego de la interacción\n",
      "b) Calcule el impulso adquirido por el electrón\n",
      "Respuesta : a)0,0758 nm; b) 1.8×10 −23 kg.m/s\n",
      "\n",
      "\n",
      "> Resultado:\n",
      "\n",
      "    a) long onda = 75.86 pm\n",
      "    b) Pe = 33.81 Kev/c = 1.8e-23 kg*m/s\n"
     ]
    }
   ],
   "source": [
    "# Salida\n",
    "print(f'=== Guía {guia} - Ejercicio {ej} ===\\n\\n> Enunciado:\\n\\n    {enunciado}\\n')\n",
    "print(f'> Resultado:\\n')\n",
    "print(f'    a) long onda = {lo2*1e12:.2f} pm'.format(lo2*1e12))\n",
    "print(f'    b) Pe = {Pe/1e3:.4g} Kev/c = {Pe*e/c:.3g} kg*m/s')"
   ]
  }
 ],
 "metadata": {
  "kernelspec": {
   "display_name": "Python 3.7",
   "language": "python",
   "name": "python3.7"
  },
  "language_info": {
   "codemirror_mode": {
    "name": "ipython",
    "version": 3
   },
   "file_extension": ".py",
   "mimetype": "text/x-python",
   "name": "python",
   "nbconvert_exporter": "python",
   "pygments_lexer": "ipython3",
   "version": "3.7.4"
  }
 },
 "nbformat": 4,
 "nbformat_minor": 2
}
