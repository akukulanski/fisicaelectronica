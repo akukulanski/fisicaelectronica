{
 "cells": [
  {
   "cell_type": "code",
   "execution_count": 1,
   "metadata": {
    "collapsed": false
   },
   "outputs": [],
   "source": [
    "from math import pi, sin, cos, asin, acos\n",
    "from constants import *\n",
    "from equations import *\n",
    "import sys\n",
    "assert sys.version_info >= (3, 6), 'Este script puede correrse con Python >= 3.6'"
   ]
  },
  {
   "cell_type": "code",
   "execution_count": 3,
   "metadata": {
    "collapsed": false
   },
   "outputs": [
    {
     "data": {
      "text/plain": [
       "0"
      ]
     },
     "execution_count": 3,
     "metadata": {},
     "output_type": "execute_result"
    }
   ],
   "source": [
    "guia = 9\n",
    "ej = 1\n",
    "enunciado = \"\"\"Suponga que la cantidad de movimiento de una cierta partı́cula se puede medir con una precisión\n",
    "hasta de una parte en mil. Determine la incertidumbre mı́nima en la posición de la partı́cula si ésta\n",
    "es: a) Una masa de 5×10 −3 kg que se mueve a una velocidad de 2 m/s b) Un electrón que se\n",
    "desplaza a 1,8×10 8 m/s\n",
    "Respuesta : a) 5,27×10 −30 m b) 2,58×10 −10 m\n",
    "\"\"\"\n",
    "# github can't display this latex equations.\n",
    "# Uncomment the lambda function in equations.py to see them locally in your notebook.\n",
    "print_eq(r'E=m_{r}*c^{2}') # prueba latex printing"
   ]
  },
  {
   "cell_type": "code",
   "execution_count": null,
   "metadata": {
    "collapsed": false
   },
   "outputs": [],
   "source": [
    "# Datos\n",
    "dp_rel = 1/1000 # incertidumbre relativa en la posición\n",
    "#display(Math(r'\\frac{\\Delta P}{P} = \\frac{1}{1000}'))\n",
    "#a)\n",
    "ma = 5e-3 # kg\n",
    "va = 2 # m/s\n",
    "#b)\n",
    "mb = 511e3 # ev/c^2\n",
    "vb = 1.8e8/c # c"
   ]
  },
  {
   "cell_type": "code",
   "execution_count": null,
   "metadata": {
    "collapsed": false
   },
   "outputs": [],
   "source": [
    "# Cálculos\n",
    "# a)\n",
    "pasos = (incertidumbre_xp,\n",
    "         r'\\Delta x.\\frac{\\Delta p}{p} \\ge \\frac{\\hbar}{2.p}',\n",
    "         r'\\Delta x.\\frac{\\Delta p}{p} \\ge \\frac{\\hbar}{2.m.v}',\n",
    "         #fr'\\Delta x.\\frac{{1}}{{1000*{ma}}}',\n",
    "         r'\\Delta x.\\frac{1}{1000} \\ge \\frac{\\hbar}{2.m_{a}.v_{a}}',\n",
    "         )\n",
    "for p in pasos: print_eq(p)\n",
    "dx_a = h_Js/(2*pi*2*ma*va*dp_rel)"
   ]
  },
  {
   "cell_type": "code",
   "execution_count": null,
   "metadata": {
    "collapsed": false
   },
   "outputs": [],
   "source": [
    "# Salida\n",
    "print(f'=== Guía {guia} - Ejercicio {ej} ===\\n\\n> Enunciado:\\n\\n    {enunciado}\\n')\n",
    "print(f'> Resultado:\\n')\n",
    "print(f'    a) dx_a = {dx_a:.4g} m')\n",
    "print(f'    b) ...')"
   ]
  }
 ],
 "metadata": {
  "kernelspec": {
   "display_name": "Python 3.7",
   "language": "python",
   "name": "python3.7"
  },
  "language_info": {
   "codemirror_mode": {
    "name": "ipython",
    "version": 3
   },
   "file_extension": ".py",
   "mimetype": "text/x-python",
   "name": "python",
   "nbconvert_exporter": "python",
   "pygments_lexer": "ipython3",
   "version": "3.7.4"
  }
 },
 "nbformat": 4,
 "nbformat_minor": 2
}
