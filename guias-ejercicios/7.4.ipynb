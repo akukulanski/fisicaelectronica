{
 "cells": [
  {
   "cell_type": "code",
   "execution_count": 1,
   "metadata": {
    "collapsed": true
   },
   "outputs": [],
   "source": [
    "from math import pi, sin, cos, asin, acos\n",
    "from constants import *\n",
    "import sys\n",
    "assert sys.version_info >= (3, 6), 'Este script puede correrse con Python >= 3.6'"
   ]
  },
  {
   "cell_type": "code",
   "execution_count": 2,
   "metadata": {
    "collapsed": true
   },
   "outputs": [],
   "source": [
    "guia = 7\n",
    "ej = 4\n",
    "enunciado = \"\"\"Usando rayos X de λ=1,5 Å se observa un máximo de difracción de primer orden debido a una\n",
    "reflexión en un plano de átomos uniformemente distribuidos en una red cúbica simple, formando\n",
    "un ángulo de 18 ◦ respecto a la normal a dicho plano.\n",
    "a) Hallar la distancia interatómica.\n",
    "b) Hallar el ángulo de dispersión de segundo orden.\n",
    "Respuesta :a) 0,079 nm; b) no existe\n",
    "\"\"\""
   ]
  },
  {
   "cell_type": "code",
   "execution_count": 3,
   "metadata": {
    "collapsed": false
   },
   "outputs": [],
   "source": [
    "# Datos\n",
    "m = 1 # orden\n",
    "lo = 1.5e-10 # m\n",
    "ang = 18 * pi / 180 # rad (respecto a normal)"
   ]
  },
  {
   "cell_type": "code",
   "execution_count": 4,
   "metadata": {
    "collapsed": false
   },
   "outputs": [],
   "source": [
    "# Cálculos\n",
    "d = m*lo/(2*cos(ang))\n",
    "calc_ang = lambda d_,lo_,m_: acos(m_*lo_/(2*d_))\n",
    "m2 = 2\n",
    "try:\n",
    "    ang_m2 = calc_ang(d, lo, m2)\n",
    "except:\n",
    "    ang_m2 = 'No existe!'"
   ]
  },
  {
   "cell_type": "code",
   "execution_count": 5,
   "metadata": {
    "collapsed": false
   },
   "outputs": [
    {
     "name": "stdout",
     "output_type": "stream",
     "text": [
      "=== Guía 7 - Ejercicio 4 ===\n",
      "\n",
      "> Enunciado:\n",
      "\n",
      "    Usando rayos X de λ=1,5 Å se observa un máximo de difracción de primer orden debido a una\n",
      "reflexión en un plano de átomos uniformemente distribuidos en una red cúbica simple, formando\n",
      "un ángulo de 18 ◦ respecto a la normal a dicho plano.\n",
      "a) Hallar la distancia interatómica.\n",
      "b) Hallar el ángulo de dispersión de segundo orden.\n",
      "Respuesta :a) 0,079 nm; b) no existe\n",
      "\n",
      "\n",
      "> Resultado:\n",
      "\n",
      "    a) d = 78.9 pm\n",
      "    b) ang(m=2) = No existe!\n"
     ]
    }
   ],
   "source": [
    "# Salida\n",
    "print(f'=== Guía {guia} - Ejercicio {ej} ===\\n\\n> Enunciado:\\n\\n    {enunciado}\\n')\n",
    "print(f'> Resultado:\\n')\n",
    "print(f'    a) d = {d*1e12:.3g} pm')\n",
    "print(f'    b) ang(m=2) = {ang_m2}')"
   ]
  }
 ],
 "metadata": {
  "kernelspec": {
   "display_name": "Python 3.7",
   "language": "python",
   "name": "python3.7"
  },
  "language_info": {
   "codemirror_mode": {
    "name": "ipython",
    "version": 3
   },
   "file_extension": ".py",
   "mimetype": "text/x-python",
   "name": "python",
   "nbconvert_exporter": "python",
   "pygments_lexer": "ipython3",
   "version": "3.7.4"
  }
 },
 "nbformat": 4,
 "nbformat_minor": 2
}
