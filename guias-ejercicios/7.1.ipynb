{
 "cells": [
  {
   "cell_type": "code",
   "execution_count": 1,
   "metadata": {
    "collapsed": true
   },
   "outputs": [],
   "source": [
    "from math import pi, sin, cos, asin, acos\n",
    "from constants import *"
   ]
  },
  {
   "cell_type": "code",
   "execution_count": 2,
   "metadata": {
    "collapsed": true
   },
   "outputs": [],
   "source": [
    "guia = 7\n",
    "ejercicio = 1\n",
    "enunciado = \"\"\"Un aparato de Rayos X, posee un anticátodo de Molibdeno sobre el que inciden electrones con\n",
    "una energı́a de 0,48×10 −14 J.\n",
    "a) ¿Cuál es la longitud de onda mı́nima medida en nm de los rayos X emitidos?\n",
    "b) ¿Cuál es su frecuencia?\n",
    "c) ¿Qué voltaje acelerador se emplea?\n",
    "Respuesta : a) 0,041 nm; b) 7.3×10 18 Hz c) 30 kV\n",
    "\"\"\"\n",
    "info = {\n",
    "    'guia': guia,\n",
    "    'ej': ejercicio,\n",
    "    'enunciado': enunciado,\n",
    "}"
   ]
  },
  {
   "cell_type": "code",
   "execution_count": 3,
   "metadata": {
    "collapsed": true
   },
   "outputs": [],
   "source": [
    "# Datos\n",
    "Ke = 0.48e-14 # [J]"
   ]
  },
  {
   "cell_type": "code",
   "execution_count": 4,
   "metadata": {
    "collapsed": true
   },
   "outputs": [],
   "source": [
    "# Cálculos\n",
    "# hc/lo = Ke\n",
    "Ke_ev = Ke / e # [eV]\n",
    "lo = hc / Ke_ev # [m]\n",
    "f = c/lo # [Hz]\n",
    "V = Ke_ev # [V]"
   ]
  },
  {
   "cell_type": "code",
   "execution_count": 5,
   "metadata": {
    "collapsed": true
   },
   "outputs": [],
   "source": [
    "# Resultados\n",
    "results = {\n",
    "    'lo_nm': lo*1e9,\n",
    "    'freq': f,\n",
    "    'voltage': V/1e3,\n",
    "}"
   ]
  },
  {
   "cell_type": "code",
   "execution_count": 6,
   "metadata": {
    "collapsed": false
   },
   "outputs": [
    {
     "name": "stdout",
     "output_type": "stream",
     "text": [
      "=== Guía 7 - Ejercicio 1 ===\n",
      "\n",
      "Enunciado:\n",
      "\n",
      "    Un aparato de Rayos X, posee un anticátodo de Molibdeno sobre el que inciden electrones con\n",
      "una energı́a de 0,48×10 −14 J.\n",
      "a) ¿Cuál es la longitud de onda mı́nima medida en nm de los rayos X emitidos?\n",
      "b) ¿Cuál es su frecuencia?\n",
      "c) ¿Qué voltaje acelerador se emplea?\n",
      "Respuesta : a) 0,041 nm; b) 7.3×10 18 Hz c) 30 kV\n",
      "\n",
      "\n",
      "a) Longitud de onda: 0.04 nm\n",
      "b) Frecuencia: 7.3e+18 Hz\n",
      "c) Tensión: 30 KV\n"
     ]
    }
   ],
   "source": [
    "# Salida\n",
    "print('=== Guía {guia:} - Ejercicio {ej:} ===\\n\\nEnunciado:\\n\\n    {enunciado:}\\n'.format(**info))\n",
    "print('a) Longitud de onda: {lo_nm:.2f} nm\\nb) Frecuencia: {freq:.2g} Hz\\nc) Tensión: {voltage:.2g} KV'.format(**results))"
   ]
  }
 ],
 "metadata": {
  "kernelspec": {
   "display_name": "Python 3",
   "language": "python",
   "name": "python3"
  },
  "language_info": {
   "codemirror_mode": {
    "name": "ipython",
    "version": 3
   },
   "file_extension": ".py",
   "mimetype": "text/x-python",
   "name": "python",
   "nbconvert_exporter": "python",
   "pygments_lexer": "ipython3",
   "version": "3.5.3"
  }
 },
 "nbformat": 4,
 "nbformat_minor": 2
}
