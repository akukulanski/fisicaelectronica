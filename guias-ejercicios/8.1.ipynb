{
 "cells": [
  {
   "cell_type": "code",
   "execution_count": 2,
   "metadata": {
    "collapsed": true
   },
   "outputs": [],
   "source": [
    "from math import pi, sin, cos, asin, acos\n",
    "from constants import *"
   ]
  },
  {
   "cell_type": "code",
   "execution_count": 2,
   "metadata": {
    "collapsed": true
   },
   "outputs": [],
   "source": [
    "guia = 8\n",
    "ejercicio = 1\n",
    "enunciado = \"\"\"Una partı́cula alfa se apunta directamente hacia un núcleo de oro. Esa partı́cula tiene dos proto-\n",
    "nes, y su carga es de 2e = 2(1,60×10 −19 C), mientras que un núcleo de oro tiene 79 protones y una\n",
    "carga de 79e = 79(1,60×10 −19 C). ¿Qué energı́a cinética mı́nima debe tener la partı́cula alfa para\n",
    "acercarse a menos de 5×10 −14 m del centro del núcleo de oro? Suponga que el núcleo de oro, que\n",
    "tiene más o menos 50 veces la masa en reposo de una partı́cula alfa, permanece en reposo.\n",
    "Respuesta : 4,6 MeV\"\"\"\n",
    "info = {\n",
    "    'guia': guia,\n",
    "    'ej': ejercicio,\n",
    "    'enunciado': enunciado,\n",
    "}"
   ]
  },
  {
   "cell_type": "code",
   "execution_count": 3,
   "metadata": {
    "collapsed": true
   },
   "outputs": [],
   "source": [
    "# Datos\n",
    "q1 = 2*e # C\n",
    "q2 = 79*e # C\n",
    "d_min = 5e-14 # m"
   ]
  },
  {
   "cell_type": "code",
   "execution_count": 4,
   "metadata": {
    "collapsed": true
   },
   "outputs": [],
   "source": [
    "# Cálculos\n",
    "# Ec_min = Ep(r=d_min) = k*q1*q2/r\n",
    "Ec_min = 1/(4*pi*8.85e-12)*q1*q2/d_min # J"
   ]
  },
  {
   "cell_type": "code",
   "execution_count": 5,
   "metadata": {
    "collapsed": true
   },
   "outputs": [],
   "source": [
    "# Resultados\n",
    "results = {\n",
    "    'ec_min': Ec_min,\n",
    "    'ec_min_ev': Ec_min/e,\n",
    "}"
   ]
  },
  {
   "cell_type": "code",
   "execution_count": 6,
   "metadata": {
    "collapsed": false
   },
   "outputs": [
    {
     "name": "stdout",
     "output_type": "stream",
     "text": [
      "=== Guía 8 - Ejercicio 1 ===\n",
      "\n",
      "Enunciado:\n",
      "\n",
      "    Una partı́cula alfa se apunta directamente hacia un núcleo de oro. Esa partı́cula tiene dos proto-\n",
      "nes, y su carga es de 2e = 2(1,60×10 −19 C), mientras que un núcleo de oro tiene 79 protones y una\n",
      "carga de 79e = 79(1,60×10 −19 C). ¿Qué energı́a cinética mı́nima debe tener la partı́cula alfa para\n",
      "acercarse a menos de 5×10 −14 m del centro del núcleo de oro? Suponga que el núcleo de oro, que\n",
      "tiene más o menos 50 veces la masa en reposo de una partı́cula alfa, permanece en reposo.\n",
      "Respuesta : 4,6 MeV\n",
      "\n",
      "a) Ec min = 7.3e-13 J = 4.5e+06 eV\n"
     ]
    }
   ],
   "source": [
    "# Salida\n",
    "print('=== Guía {guia:} - Ejercicio {ej:} ===\\n\\nEnunciado:\\n\\n    {enunciado:}\\n'.format(**info))\n",
    "print('a) Ec min = {ec_min:.2g} J = {ec_min_ev:.2g} eV'.format(**results))"
   ]
  }
 ],
 "metadata": {
  "kernelspec": {
   "display_name": "Python 3.7",
   "language": "python",
   "name": "python3.7"
  },
  "language_info": {
   "codemirror_mode": {
    "name": "ipython",
    "version": 3
   },
   "file_extension": ".py",
   "mimetype": "text/x-python",
   "name": "python",
   "nbconvert_exporter": "python",
   "pygments_lexer": "ipython3",
   "version": "3.7.4"
  }
 },
 "nbformat": 4,
 "nbformat_minor": 2
}
