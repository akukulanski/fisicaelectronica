{
 "cells": [
  {
   "cell_type": "code",
   "execution_count": 1,
   "metadata": {
    "collapsed": false
   },
   "outputs": [],
   "source": [
    "from math import pi, sin, cos, asin, acos\n",
    "from constants import *\n",
    "import sys\n",
    "assert sys.version_info >= (3, 6), 'Este script puede correrse con Python >= 3.6'"
   ]
  },
  {
   "cell_type": "code",
   "execution_count": 2,
   "metadata": {
    "collapsed": true
   },
   "outputs": [],
   "source": [
    "guia = 7\n",
    "ej = 3\n",
    "enunciado = \"\"\"¿Cuál es la distancia entre planos atómicos en la calcita si el ángulo entre estos planos y un haz\n",
    "de rayos X, de 41,56 keV, dispersado de orden 3, es de 8 ◦ 37’37”?.\n",
    "Respuesta : a) 0,3 nm\n",
    "\"\"\""
   ]
  },
  {
   "cell_type": "code",
   "execution_count": 3,
   "metadata": {
    "collapsed": true
   },
   "outputs": [],
   "source": [
    "# Datos\n",
    "Ef = 41.56e3 # eV\n",
    "ang = pi / 180 * (8+37/60+37/3600) # rad\n",
    "m = 3"
   ]
  },
  {
   "cell_type": "code",
   "execution_count": 4,
   "metadata": {
    "collapsed": true
   },
   "outputs": [],
   "source": [
    "# Cálculos\n",
    "lo = hc / Ef # m\n",
    "#2*d*sin(ang) = m * lo\n",
    "d = m * lo / (2 * sin(ang))"
   ]
  },
  {
   "cell_type": "code",
   "execution_count": 5,
   "metadata": {
    "collapsed": false
   },
   "outputs": [
    {
     "name": "stdout",
     "output_type": "stream",
     "text": [
      "=== Guía 7 - Ejercicio 3 ===\n",
      "\n",
      "> Enunciado:\n",
      "\n",
      "    ¿Cuál es la distancia entre planos atómicos en la calcita si el ángulo entre estos planos y un haz\n",
      "de rayos X, de 41,56 keV, dispersado de orden 3, es de 8 ◦ 37’37”?.\n",
      "Respuesta : a) 0,3 nm\n",
      "\n",
      "\n",
      "> Resultado:\n",
      "\n",
      "    d = 0.30 nm\n"
     ]
    }
   ],
   "source": [
    "# Salida\n",
    "print(f'=== Guía {guia} - Ejercicio {ej} ===\\n\\n> Enunciado:\\n\\n    {enunciado}\\n')\n",
    "print(f'> Resultado:\\n')\n",
    "print(f'    d = {d*1e9:.2f} nm')"
   ]
  }
 ],
 "metadata": {
  "kernelspec": {
   "display_name": "Python 3.7",
   "language": "python",
   "name": "python3.7"
  },
  "language_info": {
   "codemirror_mode": {
    "name": "ipython",
    "version": 3
   },
   "file_extension": ".py",
   "mimetype": "text/x-python",
   "name": "python",
   "nbconvert_exporter": "python",
   "pygments_lexer": "ipython3",
   "version": "3.7.4"
  }
 },
 "nbformat": 4,
 "nbformat_minor": 2
}
