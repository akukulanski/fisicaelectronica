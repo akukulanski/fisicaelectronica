{
 "cells": [
  {
   "cell_type": "code",
   "execution_count": 1,
   "metadata": {
    "collapsed": true
   },
   "outputs": [],
   "source": [
    "from math import pi, sin, cos, asin, acos\n",
    "from constants import *\n",
    "import sys\n",
    "assert sys.version_info >= (3, 6), 'Este script puede correrse con Python >= 3.6'"
   ]
  },
  {
   "cell_type": "code",
   "execution_count": 2,
   "metadata": {
    "collapsed": true
   },
   "outputs": [],
   "source": [
    "guia = 7\n",
    "ej = 9\n",
    "enunciado = \"\"\"La primera lı́nea de la serie K del Tungsteno (K α ) tiene una longitud de onda de 0,0215 nm y\n",
    "la última lı́nea de la misma serie 0,0178 nm.\n",
    "a) Calcular el potencial de frenado (en V) de los fotoelectrones, que libera de un metal la lı́nea\n",
    "K α del Tungsteno.\n",
    "b) Calcular el voltaje mı́nimo a aplicar entre el filamento y el blanco de Tungsteno, necesario\n",
    "para excitar la misma lı́nea (serie K del Tungsteno).\n",
    "Respuesta : a) 57,6 kV; b) 69,6 kV\n",
    "\"\"\""
   ]
  },
  {
   "cell_type": "code",
   "execution_count": 3,
   "metadata": {
    "collapsed": false
   },
   "outputs": [],
   "source": [
    "# Datos\n",
    "lo_kalfa = 21.5e-12 # m\n",
    "lo_k_ultima = 17.8e-12 # m"
   ]
  },
  {
   "cell_type": "code",
   "execution_count": 4,
   "metadata": {
    "collapsed": false
   },
   "outputs": [],
   "source": [
    "# Cálculos\n",
    "# a) La energía de los electrones es casi igual a la de los fotones incidentes,\n",
    "# por ser mucho mayor a la función trabajo de cualquier metal\n",
    "Ef = hc / lo_kalfa # eV\n",
    "Ke = Ef # eV\n",
    "Vf = Ke # V\n",
    "# b) Para obtener una serie espectral es necesario arrancar el electrón totalmente\n",
    "# (en este caso el de n=1), ya que no hay estados vacíos en n=2,3,...\n",
    "Emin = hc / lo_k_ultima # [eV]\n",
    "Vmin = Emin # [V]"
   ]
  },
  {
   "cell_type": "code",
   "execution_count": 5,
   "metadata": {
    "collapsed": false
   },
   "outputs": [
    {
     "name": "stdout",
     "output_type": "stream",
     "text": [
      "=== Guía 7 - Ejercicio 9 ===\n",
      "\n",
      "> Enunciado:\n",
      "\n",
      "    La primera lı́nea de la serie K del Tungsteno (K α ) tiene una longitud de onda de 0,0215 nm y\n",
      "la última lı́nea de la misma serie 0,0178 nm.\n",
      "a) Calcular el potencial de frenado (en V) de los fotoelectrones, que libera de un metal la lı́nea\n",
      "K α del Tungsteno.\n",
      "b) Calcular el voltaje mı́nimo a aplicar entre el filamento y el blanco de Tungsteno, necesario\n",
      "para excitar la misma lı́nea (serie K del Tungsteno).\n",
      "Respuesta : a) 57,6 kV; b) 69,6 kV\n",
      "\n",
      "\n",
      "> Resultado:\n",
      "\n",
      "    a) Vf = 57.67 KV\n",
      "    b) Vmin = 69.66 KV\n"
     ]
    }
   ],
   "source": [
    "# Salida\n",
    "print(f'=== Guía {guia} - Ejercicio {ej} ===\\n\\n> Enunciado:\\n\\n    {enunciado}\\n')\n",
    "print(f'> Resultado:\\n')\n",
    "print(f'    a) Vf = {Vf/1e3:.4g} KV')\n",
    "print(f'    b) Vmin = {Vmin/1e3:.4g} KV')"
   ]
  }
 ],
 "metadata": {
  "kernelspec": {
   "display_name": "Python 3.7",
   "language": "python",
   "name": "python3.7"
  },
  "language_info": {
   "codemirror_mode": {
    "name": "ipython",
    "version": 3
   },
   "file_extension": ".py",
   "mimetype": "text/x-python",
   "name": "python",
   "nbconvert_exporter": "python",
   "pygments_lexer": "ipython3",
   "version": "3.7.4"
  }
 },
 "nbformat": 4,
 "nbformat_minor": 2
}
