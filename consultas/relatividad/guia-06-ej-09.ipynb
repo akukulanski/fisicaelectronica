{
 "cells": [
  {
   "cell_type": "markdown",
   "id": "60b134a3-db24-4c34-a07c-be2198f26181",
   "metadata": {},
   "source": [
    "Dos naves que viajan con sentido opuestos pasan por la Tierra. La nave A viaja a 0,4c y la\n",
    "nave B a 0,6c. Cuando para el tripulante de la nave A pasaron 100 s, envı́a una señal luminosa al\n",
    "tripulante de la nave B.\n",
    "\n",
    "¿Qué tiempo transcurrió para el tripulante de la nave B cuando le llega la señal desde que pasó\n",
    "por la Tierra?"
   ]
  },
  {
   "cell_type": "code",
   "execution_count": 5,
   "id": "3074414e-11a1-4517-8c7a-54e56acd085b",
   "metadata": {},
   "outputs": [],
   "source": [
    "import math\n",
    "import numpy as np"
   ]
  },
  {
   "cell_type": "code",
   "execution_count": 7,
   "id": "6bd8ef2d-d6dc-4f14-a0ee-e525efad46f0",
   "metadata": {},
   "outputs": [],
   "source": [
    "c = 3e8\n",
    "\n",
    "def gamma(v_c):\n",
    "    # v_c: speed in [c]\n",
    "    return (1 - v_c**2)**-.5\n",
    "\n",
    "def gamma_from_v_m_s(v_m_s):\n",
    "    return gamma(v_c=(v_m_s / c))\n",
    "\n",
    "assert math.isclose(gamma(0.8), 5/3, rel_tol=1e-6)\n",
    "assert math.isclose(gamma_from_v_m_s(0.8 * c), 5/3, rel_tol=1e-6)"
   ]
  },
  {
   "cell_type": "code",
   "execution_count": 14,
   "id": "f6fd0c4d-a284-4a51-b17d-0b6de304e475",
   "metadata": {},
   "outputs": [],
   "source": [
    "# Datos de velocidad de cada nave respecto a la Tierra\n",
    "\n",
    "# Velocidad nave A respecto a T\n",
    "ua_T = 0.4  # [c]\n",
    "# Velocidad nave B respecto a T\n",
    "ub_T = -0.6  # [c]"
   ]
  },
  {
   "cell_type": "code",
   "execution_count": 15,
   "id": "227b19c7-5d15-4f35-a7dd-7da7a14ae5af",
   "metadata": {},
   "outputs": [
    {
     "name": "stdout",
     "output_type": "stream",
     "text": [
      "ua_B: 0.8065 c\n",
      "Gamma: 1.691\n"
     ]
    }
   ],
   "source": [
    "# Cálculo de velocidad de nave A respecto a B y factor gamma asociado\n",
    "\n",
    "# Velocidad de nave A respecto a nave B\n",
    "ua_B = (ua_T - ub_T) / (1 - ua_T * ub_T)\n",
    "print(f'ua_B: {ua_B:.04g} c')\n",
    "\n",
    "# Gamma:\n",
    "gamma_AB = gamma(ua_B)\n",
    "print(f'Gamma: {gamma_AB:.04g}')"
   ]
  },
  {
   "cell_type": "code",
   "execution_count": 16,
   "id": "b92554c8-a116-4e43-827e-21c5d36b9e4f",
   "metadata": {},
   "outputs": [
    {
     "name": "stdout",
     "output_type": "stream",
     "text": [
      "t2_b: 169.1 s\n",
      "x2_b: 136.4 sc\n",
      "delta_t32: 136.4 s\n",
      "t3_b: 305.5 s\n"
     ]
    }
   ],
   "source": [
    "# Evento 1: Nave A y Nave B pasando por la Tierra\n",
    "t1_a = 0\n",
    "t1_b = 0\n",
    "\n",
    "# Evento 2: Nave A mide 100 segundos y envía una señal\n",
    "t2_a = 100  # [s]\n",
    "t2_b = gamma_AB * t2_a\n",
    "print(f't2_b: {t2_b:.04g} s')\n",
    "# Posición del evento 2 según nave B es t2_b * ua_B\n",
    "x2_b = t2_b * ua_B\n",
    "print(f'x2_b: {x2_b:.04g} sc')\n",
    "\n",
    "# Evento 3: Señal llega a nave B\n",
    "# La señal se mueve a C y debe recorrer una distancia x2_b\n",
    "delta_t32 = x2_b / 1  # [s]\n",
    "print(f'delta_t32: {delta_t32:.04g} s')\n",
    "# t3 será t2 + delta_t32\n",
    "t3_b = t2_b + delta_t32\n",
    "print(f't3_b: {t3_b:.04g} s')"
   ]
  },
  {
   "cell_type": "code",
   "execution_count": null,
   "id": "b12ee9fd-f619-4cf3-95bb-e097b504cde2",
   "metadata": {},
   "outputs": [],
   "source": []
  }
 ],
 "metadata": {
  "kernelspec": {
   "display_name": "Python 3 (ipykernel)",
   "language": "python",
   "name": "python3"
  },
  "language_info": {
   "codemirror_mode": {
    "name": "ipython",
    "version": 3
   },
   "file_extension": ".py",
   "mimetype": "text/x-python",
   "name": "python",
   "nbconvert_exporter": "python",
   "pygments_lexer": "ipython3",
   "version": "3.11.8"
  }
 },
 "nbformat": 4,
 "nbformat_minor": 5
}
