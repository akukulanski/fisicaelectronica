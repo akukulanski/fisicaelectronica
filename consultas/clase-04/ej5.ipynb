{
 "cells": [
  {
   "cell_type": "code",
   "execution_count": 8,
   "metadata": {},
   "outputs": [],
   "source": [
    "# libs\n",
    "from math import pi\n",
    "from engineering_notation import EngNumber"
   ]
  },
  {
   "cell_type": "code",
   "execution_count": 2,
   "metadata": {},
   "outputs": [],
   "source": [
    "# constantes\n",
    "k = 1.38e-23 # [J/K] constante de Boltzmann\n",
    "N = 6.02e23 # num Avogadro"
   ]
  },
  {
   "cell_type": "code",
   "execution_count": 4,
   "metadata": {},
   "outputs": [],
   "source": [
    "def calc_Vrms(T, m):\n",
    "    return (3*k*T/m)**0.5\n",
    "\n",
    "def calc_Vmed(T, m):\n",
    "    return (8*k*T/pi/m)**0.5\n",
    "\n",
    "def calc_Vmp(T, m):\n",
    "    return (2*k*T/m)**0.5"
   ]
  },
  {
   "cell_type": "code",
   "execution_count": 10,
   "metadata": {},
   "outputs": [
    {
     "name": "stdout",
     "output_type": "stream",
     "text": [
      "Vrms: 611.43 m/s\n",
      "Vmed: 563.32 m/s\n",
      "Vmp: 499.23 m/s\n"
     ]
    }
   ],
   "source": [
    "# ejercicio 5)\n",
    "# datos\n",
    "T = 300 # [K]\n",
    "M = 20e-3 # [g] masa por mol\n",
    "# cálculos\n",
    "m = M / N # masa por molecula\n",
    "v_rms = calc_Vrms(T, m)\n",
    "v_med = calc_Vmed(T, m)\n",
    "v_mp = calc_Vmp(T, m)\n",
    "# resultados\n",
    "print(f'Vrms: {EngNumber(v_rms)} m/s')\n",
    "print(f'Vmed: {EngNumber(v_med)} m/s')\n",
    "print(f'Vmp: {EngNumber(v_mp)} m/s')"
   ]
  },
  {
   "cell_type": "code",
   "execution_count": null,
   "metadata": {},
   "outputs": [],
   "source": []
  }
 ],
 "metadata": {
  "kernelspec": {
   "display_name": "Python 3",
   "language": "python",
   "name": "python3"
  },
  "language_info": {
   "codemirror_mode": {
    "name": "ipython",
    "version": 3
   },
   "file_extension": ".py",
   "mimetype": "text/x-python",
   "name": "python",
   "nbconvert_exporter": "python",
   "pygments_lexer": "ipython3",
   "version": "3.8.2"
  }
 },
 "nbformat": 4,
 "nbformat_minor": 4
}
