{
 "cells": [
  {
   "cell_type": "code",
   "execution_count": 1,
   "metadata": {},
   "outputs": [],
   "source": [
    "from constants import *\n",
    "import math"
   ]
  },
  {
   "cell_type": "code",
   "execution_count": 2,
   "metadata": {},
   "outputs": [],
   "source": [
    "# Datos del problema\n",
    "d = 2e-6 # m\n",
    "lo = 500e-9 # m\n",
    "D = 1 # m\n",
    "yp = 577.35e-3 # m"
   ]
  },
  {
   "cell_type": "code",
   "execution_count": 3,
   "metadata": {},
   "outputs": [
    {
     "name": "stdout",
     "output_type": "stream",
     "text": [
      "dif. camino: 1e-06 m\n"
     ]
    }
   ],
   "source": [
    "# a)\n",
    "# diferencia de camino\n",
    "ang = atan(yp / D)\n",
    "dr = d * sin(ang)\n",
    "print('dif. camino: {:.4g} m'.format(dr))"
   ]
  },
  {
   "cell_type": "code",
   "execution_count": 4,
   "metadata": {},
   "outputs": [
    {
     "name": "stdout",
     "output_type": "stream",
     "text": [
      "dif. camino: 2 long de onda\n"
     ]
    }
   ],
   "source": [
    "# dif. de camino medido en longitudes de onda\n",
    "dr_lo = dr / lo\n",
    "print('dif. camino: {:.4g} long de onda'.format(dr_lo))"
   ]
  },
  {
   "cell_type": "code",
   "execution_count": 5,
   "metadata": {},
   "outputs": [
    {
     "name": "stdout",
     "output_type": "stream",
     "text": [
      "dif. fase: 0.01 rad (0.57°)\n"
     ]
    }
   ],
   "source": [
    "# dif. de fase\n",
    "k = 2 * pi / lo # num. de onda\n",
    "dp = k * dr\n",
    "dp = round(dp, 2) % round(2 * pi, 2) # módulo 2*pi\n",
    "print('dif. fase: {:.2g} rad ({:.2g}°)'.format(dp, dp * 180 / pi))"
   ]
  },
  {
   "cell_type": "code",
   "execution_count": 6,
   "metadata": {},
   "outputs": [
    {
     "name": "stdout",
     "output_type": "stream",
     "text": [
      "Están en fase, es un máximo de interferencia.\n"
     ]
    }
   ],
   "source": [
    "# b) Maximo, mínimo, otro?\n",
    "if abs(dp) < 0.1:\n",
    "    print('Están en fase, es un máximo de interferencia.')\n",
    "elif abs(abs(dp)-pi/2) < 0.1:\n",
    "    print('Están en contrafase, es un mínimo de interferencia.')\n",
    "else:\n",
    "    print('No están en fase ni en contrafase. No corresponde a un máximo ni a un mínimo.')"
   ]
  },
  {
   "cell_type": "code",
   "execution_count": 7,
   "metadata": {},
   "outputs": [],
   "source": [
    "# c) I en el punto P\n",
    "# I = Imax"
   ]
  },
  {
   "cell_type": "code",
   "execution_count": 8,
   "metadata": {},
   "outputs": [
    {
     "name": "stdout",
     "output_type": "stream",
     "text": [
      "I = 0.32 * I_pico\n"
     ]
    }
   ],
   "source": [
    "# d) ¿Cuál es la intensidad en un punto Q que forma un ángulo de 25° respecto a la horizontal.\n",
    "# I = I_pico * cos(k * dr / 2)**2\n",
    "# I = I_pico * cos(2 * pi / lo * d * sin(ang_Q) / 2)\n",
    "ang_Q = 25 * pi / 180 # rad\n",
    "coef = cos(2 * pi / lo * d * sin(ang_Q) / 2)**2\n",
    "print('I = {:.2g} * I_pico'.format(coef))"
   ]
  },
  {
   "cell_type": "code",
   "execution_count": 9,
   "metadata": {},
   "outputs": [
    {
     "name": "stdout",
     "output_type": "stream",
     "text": [
      "Ángulo del máx. de orden 1: 14°\n"
     ]
    }
   ],
   "source": [
    "# e) ángulo de máximos de orden 1, 3 y 6\n",
    "# orden 1\n",
    "m = 1\n",
    "ang_m1 = asin(m * lo / d)\n",
    "print('Ángulo del máx. de orden {}: {:.2g}°'.format(m, 180 / pi * ang_m1))"
   ]
  },
  {
   "cell_type": "code",
   "execution_count": 10,
   "metadata": {},
   "outputs": [],
   "source": [
    "# orden 3\n",
    "#m = 3\n",
    "#ang_m3 = asin(m * lo / d)\n",
    "#print('Ángulo del máx. de orden {}: {:.2g}°'.format(m, 180 / pi * ang_m3))"
   ]
  },
  {
   "cell_type": "code",
   "execution_count": 11,
   "metadata": {},
   "outputs": [],
   "source": [
    "# orden 6\n",
    "#m = 6\n",
    "#ang_m6 = asin(m * lo / d)\n",
    "#print('Ángulo del máx. de orden {}: {:.2g}°'.format(m, 180 / pi * ang_m6))"
   ]
  },
  {
   "cell_type": "code",
   "execution_count": 12,
   "metadata": {},
   "outputs": [],
   "source": [
    "# h) Cuántos órdenes de interferencia son posibles?\n",
    "#m_max = int(d / lo)\n",
    "#print('orden máximo: {}'.format(m_max))"
   ]
  }
 ],
 "metadata": {
  "kernelspec": {
   "display_name": "Python 3",
   "language": "python",
   "name": "python3"
  },
  "language_info": {
   "codemirror_mode": {
    "name": "ipython",
    "version": 3
   },
   "file_extension": ".py",
   "mimetype": "text/x-python",
   "name": "python",
   "nbconvert_exporter": "python",
   "pygments_lexer": "ipython3",
   "version": "3.8.2"
  }
 },
 "nbformat": 4,
 "nbformat_minor": 4
}
