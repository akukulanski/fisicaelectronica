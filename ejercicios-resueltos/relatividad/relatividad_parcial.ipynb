{
 "cells": [
  {
   "cell_type": "code",
   "execution_count": 1,
   "metadata": {
    "collapsed": true
   },
   "outputs": [],
   "source": [
    "# Sistemas de referencia\n",
    "# O: sist. de ref. acoplado a Tierra\n",
    "# O': sist. de ref. acoplado a nave A\n",
    "# O'': sist. de ref. acoplado a nave B\n",
    "\n",
    "# Eventos\n",
    "# E1: A pasa por T\n",
    "# E2: A y B se cruzan\n",
    "# E3: B pasa por T\n",
    "\n",
    "# Datos\n",
    "L0 = 100 # [m] longitud propia de ambas naves\n",
    "la_a = L0\n",
    "lb_b = L0\n",
    "lb_a = 32.43 # [m]\n",
    "ua_t = 0.6 # [C]\n",
    "\n",
    "# sistema de referencia adoptado: t_a=t_b=0 en E2\n",
    "t21_a = 100 # [s]\n",
    "t2_a = 0 # [s]"
   ]
  },
  {
   "cell_type": "code",
   "execution_count": 2,
   "metadata": {
    "collapsed": false
   },
   "outputs": [
    {
     "name": "stdout",
     "output_type": "stream",
     "text": [
      "t1_a= -100 s\n"
     ]
    }
   ],
   "source": [
    "# calculo para saber...\n",
    "t1_a = t2_a - t21_a\n",
    "print('t1_a=', t1_a, 's')"
   ]
  },
  {
   "cell_type": "code",
   "execution_count": 3,
   "metadata": {
    "collapsed": false
   },
   "outputs": [
    {
     "name": "stdout",
     "output_type": "stream",
     "text": [
      "gamma_ub_a= 3.0835646006783843\n"
     ]
    }
   ],
   "source": [
    "#print('Si A ve la nave B comprimida a 32.43m (lb_b), el gamma de la velocidad B respecto a A será:')\n",
    "gamma_ub_a = lb_b / lb_a\n",
    "print('gamma_ub_a=', gamma_ub_a)"
   ]
  },
  {
   "cell_type": "code",
   "execution_count": 4,
   "metadata": {
    "collapsed": false
   },
   "outputs": [
    {
     "name": "stdout",
     "output_type": "stream",
     "text": [
      "La velocidad ub respecto a A será:\n",
      "ub_a= -0.9459542853647844 c\n"
     ]
    }
   ],
   "source": [
    "print('La velocidad ub respecto a A será:')\n",
    "ub_a = -(1-gamma_ub_a**-2)**.5\n",
    "print('ub_a=', ub_a, 'c')"
   ]
  },
  {
   "cell_type": "code",
   "execution_count": 5,
   "metadata": {
    "collapsed": false
   },
   "outputs": [
    {
     "name": "stdout",
     "output_type": "stream",
     "text": [
      "La velocidad de la Tierra respecto a A será:\n",
      "ut_a= -0.6 c\n"
     ]
    }
   ],
   "source": [
    "print('La velocidad de la Tierra respecto a A será:')\n",
    "ut_a = -ua_t\n",
    "print('ut_a=', ut_a, 'c')"
   ]
  },
  {
   "cell_type": "code",
   "execution_count": 6,
   "metadata": {
    "collapsed": false
   },
   "outputs": [
    {
     "name": "stdout",
     "output_type": "stream",
     "text": [
      "Cuando se cruzan A y B, según A la Tierra está en Xt2_a=-0.6C*100s\n",
      "xt2_a= -60.0 sc\n"
     ]
    }
   ],
   "source": [
    "print('Cuando se cruzan A y B, según A la Tierra está en Xt2_a=-0.6C*100s')\n",
    "xt2_a = -ua_t * t21_a\n",
    "print('xt2_a=', xt2_a, 'sc')"
   ]
  },
  {
   "cell_type": "code",
   "execution_count": 7,
   "metadata": {
    "collapsed": false
   },
   "outputs": [
    {
     "name": "stdout",
     "output_type": "stream",
     "text": [
      "La posición de la Tierra en función del tiempo será: xt_a(t) = xt2_a - ut_a * t\n",
      "xt_a(t) = -60 sc + -0.6c * t\n",
      "La posición de la nave B en función del tiempo será: xb_a(t) = 0 + ub_a * t\n",
      "xb_a(t) = 0 + -0.95c * t\n"
     ]
    }
   ],
   "source": [
    "print('La posición de la Tierra en función del tiempo será: xt_a(t) = xt2_a - ut_a * t')\n",
    "print('xt_a(t) = {:.2g} sc + {:.2g}c * t'.format(xt2_a, ut_a))\n",
    "print('La posición de la nave B en función del tiempo será: xb_a(t) = 0 + ub_a * t')\n",
    "print('xb_a(t) = 0 + {:.2g}c * t'.format(ub_a))"
   ]
  },
  {
   "cell_type": "code",
   "execution_count": 8,
   "metadata": {
    "collapsed": false
   },
   "outputs": [
    {
     "name": "stdout",
     "output_type": "stream",
     "text": [
      "El encuentro de T y B (E3) según A ocurrirá al coincidir la posición xt_a y xb_a\n",
      "-60 sc + -0.6c * t3_a = 0 + -0.95c * t3_a\n",
      "Tiempo de encuentro (según A): t3_a\n",
      "t3_a= 173.43331919341372 s\n"
     ]
    }
   ],
   "source": [
    "print('El encuentro de T y B (E3) según A ocurrirá al coincidir la posición xt_a y xb_a')\n",
    "print('{:.2g} sc + {:.2g}c * t3_a = 0 + {:.2g}c * t3_a'.format(xt2_a, ut_a, ub_a))\n",
    "print('Tiempo de encuentro (según A): t3_a')\n",
    "t3_a = xt2_a / (ub_a - ut_a)\n",
    "print('t3_a=', t3_a, 's')"
   ]
  },
  {
   "cell_type": "code",
   "execution_count": 9,
   "metadata": {
    "collapsed": false
   },
   "outputs": [
    {
     "name": "stdout",
     "output_type": "stream",
     "text": [
      "El tiempo entre E2 y E3 según A es:\n",
      "t32_a= 173.43331919341372 s\n",
      "El tiempo entre E2 y E3 es propio según B (t32_b), por lo tanto:\n",
      "t32_b= 56.24442541442407 s\n"
     ]
    }
   ],
   "source": [
    "print('El tiempo entre E2 y E3 según A es:')\n",
    "t32_a = t3_a - t2_a\n",
    "print('t32_a=', t32_a, 's')\n",
    "print('El tiempo entre E2 y E3 es propio según B (t32_b), por lo tanto:')\n",
    "t32_b = t32_a / gamma_ub_a\n",
    "print('t32_b=', t32_b, 's')"
   ]
  }
 ],
 "metadata": {
  "kernelspec": {
   "display_name": "Python 3",
   "language": "python",
   "name": "python3"
  },
  "language_info": {
   "codemirror_mode": {
    "name": "ipython",
    "version": 3
   },
   "file_extension": ".py",
   "mimetype": "text/x-python",
   "name": "python",
   "nbconvert_exporter": "python",
   "pygments_lexer": "ipython3",
   "version": "3.5.3"
  }
 },
 "nbformat": 4,
 "nbformat_minor": 2
}
